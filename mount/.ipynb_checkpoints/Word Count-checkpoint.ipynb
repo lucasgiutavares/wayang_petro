{
 "cells": [
  {
   "cell_type": "code",
   "execution_count": 1,
   "id": "ddc86463-d5d7-400f-83eb-6c4fc9657e36",
   "metadata": {},
   "outputs": [
    {
     "data": {
      "text/plain": [
       "\u001b[32mimport \u001b[39m\u001b[36m$ivy.$                                         \n",
       "\n",
       "\u001b[39m\n",
       "\u001b[32mimport \u001b[39m\u001b[36m$ivy.$                                                            \n",
       "\u001b[39m\n",
       "\u001b[32mimport \u001b[39m\u001b[36m$ivy.$                                             \n",
       "\u001b[39m\n",
       "\u001b[32mimport \u001b[39m\u001b[36m$ivy.$                                              \n",
       "\u001b[39m\n",
       "\u001b[32mimport \u001b[39m\u001b[36m$ivy.$                                             \n",
       "\u001b[39m\n",
       "\u001b[32mimport \u001b[39m\u001b[36m$ivy.$                                                   \u001b[39m"
      ]
     },
     "execution_count": 1,
     "metadata": {},
     "output_type": "execute_result"
    }
   ],
   "source": [
    "/* Import Dependencies */\n",
    "import $ivy.`com.thoughtworks.paranamer:paranamer:2.8`\n",
    "\n",
    "import $ivy.`org.apache.wayang:wayang-api-scala-java_2.12:0.6.1-SNAPSHOT`\n",
    "import $ivy.`org.apache.wayang:wayang-core:0.6.1-SNAPSHOT`\n",
    "import $ivy.`org.apache.wayang:wayang-basic:0.6.1-SNAPSHOT`\n",
    "import $ivy.`org.apache.wayang:wayang-java:0.6.1-SNAPSHOT`\n",
    "import $ivy.`org.apache.wayang:wayang-spark_2.12:0.6.1-SNAPSHOT`"
   ]
  },
  {
   "cell_type": "code",
   "execution_count": 2,
   "id": "df61ee83-3d0c-4f47-9d09-ebf07d118c70",
   "metadata": {},
   "outputs": [
    {
     "data": {
      "text/plain": [
       "\u001b[32mimport \u001b[39m\u001b[36morg.apache.wayang.api._\n",
       "\u001b[39m\n",
       "\u001b[32mimport \u001b[39m\u001b[36morg.apache.wayang.core.api.{Configuration, WayangContext}\n",
       "\u001b[39m\n",
       "\u001b[32mimport \u001b[39m\u001b[36morg.apache.wayang.java.Java\n",
       "\u001b[39m\n",
       "\u001b[32mimport \u001b[39m\u001b[36morg.apache.wayang.spark.Spark\n",
       "\u001b[39m\n",
       "\u001b[32mimport \u001b[39m\u001b[36mjava.io.File;\n",
       "\n",
       "\u001b[39m\n",
       "defined \u001b[32mobject\u001b[39m \u001b[36mWordcountScala\u001b[39m"
      ]
     },
     "execution_count": 2,
     "metadata": {},
     "output_type": "execute_result"
    }
   ],
   "source": [
    "import org.apache.wayang.api._\n",
    "import org.apache.wayang.core.api.{Configuration, WayangContext}\n",
    "import org.apache.wayang.java.Java\n",
    "import org.apache.wayang.spark.Spark\n",
    "import java.io.File;\n",
    "\n",
    "object WordcountScala {\n",
    "  def main(args: Array[String]) {\n",
    "\n",
    "    // Settings\n",
    "    val inputUrl = \"file:/book.txt\"\n",
    "\n",
    "    // Get a plan builder.\n",
    "    val wayangContext = new WayangContext(new Configuration)\n",
    "      .withPlugin(Java.basicPlugin)\n",
    "      .withPlugin(Spark.basicPlugin)\n",
    "    val planBuilder = new PlanBuilder(wayangContext)\n",
    "      .withJobName(s\"WordCount ($inputUrl)\")\n",
    "      .withUdfJarsOf(this.getClass)\n",
    "\n",
    "    val wordcounts = planBuilder\n",
    "      // Read the text file.\n",
    "      .readTextFile(inputUrl).withName(\"Load file\")\n",
    "\n",
    "      // Split each line by non-word characters.\n",
    "      .flatMap(_.split(\"\\\\W+\"), selectivity = 10).withName(\"Split words\")\n",
    "\n",
    "      // Filter empty tokens.\n",
    "      .filter(_.nonEmpty, selectivity = 0.99).withName(\"Filter empty words\")\n",
    "\n",
    "      // Attach counter to each word.\n",
    "      .map(word => (word.toLowerCase, 1)).withName(\"To lower case, add counter\")\n",
    "\n",
    "      // Sum up counters for every word.\n",
    "      .reduceByKey(_._1, (c1, c2) => (c1._1, c1._2 + c2._2)).withName(\"Add counters\")\n",
    "      .withCardinalityEstimator((in: Long) => math.round(0.01))\n",
    "\n",
    "    // Execute the plan and collect the results.\n",
    "    .collect()\n",
    "\n",
    "    println(wordcounts)\n",
    "  }\n",
    "}\n"
   ]
  },
  {
   "cell_type": "code",
   "execution_count": 3,
   "id": "628bf769-2bd4-45fd-bb04-5ba0567940b2",
   "metadata": {},
   "outputs": [
    {
     "data": {
      "text/plain": [
       "defined \u001b[32mfunction\u001b[39m \u001b[36mwordcount\u001b[39m"
      ]
     },
     "execution_count": 3,
     "metadata": {},
     "output_type": "execute_result"
    }
   ],
   "source": [
    "def wordcount(context: WayangContext) = {\n",
    "    val planBuilder = new PlanBuilder(context)\n",
    "    \n",
    "    val inputFile = new File(\"book.txt\").toURI().toString()\n",
    "    \n",
    "    planBuilder\n",
    "      .withJobName(s\"WordCount ($inputFile)\")\n",
    "      .readTextFile(inputFile)\n",
    "      .flatMap(_.split(\"\\\\W+\"))\n",
    "      .filter(_.nonEmpty)\n",
    "      .map(word => (word.toLowerCase, 1))\n",
    "      .reduceByKey(_._1, (c1, c2) => (c1._1, c1._2 + c2._2))\n",
    "      .collect()\n",
    "}"
   ]
  },
  {
   "cell_type": "code",
   "execution_count": 4,
   "id": "1d430a35-e9d2-4ca6-a359-29751943bc7c",
   "metadata": {},
   "outputs": [
    {
     "data": {
      "text/plain": [
       "\u001b[36mcontext\u001b[39m: \u001b[32mWayangContext\u001b[39m = org.apache.wayang.core.api.WayangContext@9b60009"
      ]
     },
     "execution_count": 4,
     "metadata": {},
     "output_type": "execute_result"
    }
   ],
   "source": [
    "val context = new WayangContext().withPlugin(Java.basicPlugin).withPlugin(Spark.basicPlugin)"
   ]
  },
  {
   "cell_type": "code",
   "execution_count": 5,
   "id": "8b8fcb74-7429-41cc-a042-d4bab5f4da1a",
   "metadata": {},
   "outputs": [
    {
     "data": {
      "text/html": [
       "<div class=\"jp-RenderedText\">\n",
       "<pre><code><span style=\"color: rgb(0, 187, 187)\"><span class=\"ansi-cyan-fg\">result</span></span>: <span style=\"color: rgb(0, 187, 0)\"><span class=\"ansi-green-fg\">Iterable</span></span>[(<span style=\"color: rgb(0, 187, 0)\"><span class=\"ansi-green-fg\">String</span></span>, <span style=\"color: rgb(0, 187, 0)\"><span class=\"ansi-green-fg\">Int</span></span>)] = <span style=\"color: yellow\"><span class=\"ansi-yellow-fg\">Buffer</span></span>(\n",
       "  (<span style=\"color: rgb(0, 187, 0)\"><span class=\"ansi-green-fg\">&quot;tears&quot;</span></span>, <span style=\"color: rgb(0, 187, 0)\"><span class=\"ansi-green-fg\">1</span></span>),\n",
       "  (<span style=\"color: rgb(0, 187, 0)\"><span class=\"ansi-green-fg\">&quot;scheme&quot;</span></span>, <span style=\"color: rgb(0, 187, 0)\"><span class=\"ansi-green-fg\">1</span></span>),\n",
       "  (<span style=\"color: rgb(0, 187, 0)\"><span class=\"ansi-green-fg\">&quot;bells&quot;</span></span>, <span style=\"color: rgb(0, 187, 0)\"><span class=\"ansi-green-fg\">1</span></span>),\n",
       "  (<span style=\"color: rgb(0, 187, 0)\"><span class=\"ansi-green-fg\">&quot;father&quot;</span></span>, <span style=\"color: rgb(0, 187, 0)\"><span class=\"ansi-green-fg\">1</span></span>),\n",
       "  (<span style=\"color: rgb(0, 187, 0)\"><span class=\"ansi-green-fg\">&quot;why&quot;</span></span>, <span style=\"color: rgb(0, 187, 0)\"><span class=\"ansi-green-fg\">1</span></span>),\n",
       "  (<span style=\"color: rgb(0, 187, 0)\"><span class=\"ansi-green-fg\">&quot;body&quot;</span></span>, <span style=\"color: rgb(0, 187, 0)\"><span class=\"ansi-green-fg\">1</span></span>),\n",
       "  (<span style=\"color: rgb(0, 187, 0)\"><span class=\"ansi-green-fg\">&quot;upon&quot;</span></span>, <span style=\"color: rgb(0, 187, 0)\"><span class=\"ansi-green-fg\">1</span></span>),\n",
       "  (<span style=\"color: rgb(0, 187, 0)\"><span class=\"ansi-green-fg\">&quot;parturition&quot;</span></span>, <span style=\"color: rgb(0, 187, 0)\"><span class=\"ansi-green-fg\">1</span></span>),\n",
       "  (<span style=\"color: rgb(0, 187, 0)\"><span class=\"ansi-green-fg\">&quot;boar&quot;</span></span>, <span style=\"color: rgb(0, 187, 0)\"><span class=\"ansi-green-fg\">1</span></span>),\n",
       "  (<span style=\"color: rgb(0, 187, 0)\"><span class=\"ansi-green-fg\">&quot;currents&quot;</span></span>, <span style=\"color: rgb(0, 187, 0)\"><span class=\"ansi-green-fg\">1</span></span>),\n",
       "  (<span style=\"color: rgb(0, 187, 0)\"><span class=\"ansi-green-fg\">&quot;that&quot;</span></span>, <span style=\"color: rgb(0, 187, 0)\"><span class=\"ansi-green-fg\">3</span></span>),\n",
       "  (<span style=\"color: rgb(0, 187, 0)\"><span class=\"ansi-green-fg\">&quot;not&quot;</span></span>, <span style=\"color: rgb(0, 187, 0)\"><span class=\"ansi-green-fg\">2</span></span>),\n",
       "  (<span style=\"color: rgb(0, 187, 0)\"><span class=\"ansi-green-fg\">&quot;his&quot;</span></span>, <span style=\"color: rgb(0, 187, 0)\"><span class=\"ansi-green-fg\">1</span></span>),\n",
       "  (<span style=\"color: rgb(0, 187, 0)\"><span class=\"ansi-green-fg\">&quot;and&quot;</span></span>, <span style=\"color: rgb(0, 187, 0)\"><span class=\"ansi-green-fg\">5</span></span>),\n",
       "  (<span style=\"color: rgb(0, 187, 0)\"><span class=\"ansi-green-fg\">&quot;said&quot;</span></span>, <span style=\"color: rgb(0, 187, 0)\"><span class=\"ansi-green-fg\">1</span></span>),\n",
       "  (<span style=\"color: rgb(0, 187, 0)\"><span class=\"ansi-green-fg\">&quot;you&quot;</span></span>, <span style=\"color: rgb(0, 187, 0)\"><span class=\"ansi-green-fg\">1</span></span>),\n",
       "  (<span style=\"color: rgb(0, 187, 0)\"><span class=\"ansi-green-fg\">&quot;hours&quot;</span></span>, <span style=\"color: rgb(0, 187, 0)\"><span class=\"ansi-green-fg\">1</span></span>),\n",
       "  (<span style=\"color: rgb(0, 187, 0)\"><span class=\"ansi-green-fg\">&quot;scaling&quot;</span></span>, <span style=\"color: rgb(0, 187, 0)\"><span class=\"ansi-green-fg\">1</span></span>),\n",
       "  (<span style=\"color: rgb(0, 187, 0)\"><span class=\"ansi-green-fg\">&quot;living&quot;</span></span>, <span style=\"color: rgb(0, 187, 0)\"><span class=\"ansi-green-fg\">1</span></span>),\n",
       "  (<span style=\"color: rgb(0, 187, 0)\"><span class=\"ansi-green-fg\">&quot;qu&quot;</span></span>, <span style=\"color: rgb(0, 187, 0)\"><span class=\"ansi-green-fg\">1</span></span>),\n",
       "  (<span style=\"color: rgb(0, 187, 0)\"><span class=\"ansi-green-fg\">&quot;this&quot;</span></span>, <span style=\"color: rgb(0, 187, 0)\"><span class=\"ansi-green-fg\">3</span></span>),\n",
       "  (<span style=\"color: rgb(0, 187, 0)\"><span class=\"ansi-green-fg\">&quot;them&quot;</span></span>, <span style=\"color: rgb(0, 187, 0)\"><span class=\"ansi-green-fg\">1</span></span>),\n",
       "  (<span style=\"color: rgb(0, 187, 0)\"><span class=\"ansi-green-fg\">&quot;entered&quot;</span></span>, <span style=\"color: rgb(0, 187, 0)\"><span class=\"ansi-green-fg\">1</span></span>),\n",
       "  (<span style=\"color: rgb(0, 187, 0)\"><span class=\"ansi-green-fg\">&quot;strangers&quot;</span></span>, <span style=\"color: rgb(0, 187, 0)\"><span class=\"ansi-green-fg\">1</span></span>),\n",
       "  (<span style=\"color: rgb(0, 187, 0)\"><span class=\"ansi-green-fg\">&quot;an&quot;</span></span>, <span style=\"color: rgb(0, 187, 0)\"><span class=\"ansi-green-fg\">1</span></span>),\n",
       "  (<span style=\"color: rgb(0, 187, 0)\"><span class=\"ansi-green-fg\">&quot;the&quot;</span></span>, <span style=\"color: rgb(0, 187, 0)\"><span class=\"ansi-green-fg\">3</span></span>),\n",
       "  (<span style=\"color: rgb(0, 187, 0)\"><span class=\"ansi-green-fg\">&quot;artificial&quot;</span></span>, <span style=\"color: rgb(0, 187, 0)\"><span class=\"ansi-green-fg\">1</span></span>),\n",
       "  (<span style=\"color: rgb(0, 187, 0)\"><span class=\"ansi-green-fg\">&quot;what&quot;</span></span>, <span style=\"color: rgb(0, 187, 0)\"><span class=\"ansi-green-fg\">1</span></span>),\n",
       "  (<span style=\"color: rgb(0, 187, 0)\"><span class=\"ansi-green-fg\">&quot;well&quot;</span></span>, <span style=\"color: rgb(0, 187, 0)\"><span class=\"ansi-green-fg\">1</span></span>),\n",
       "  (<span style=\"color: rgb(0, 187, 0)\"><span class=\"ansi-green-fg\">&quot;to&quot;</span></span>, <span style=\"color: rgb(0, 187, 0)\"><span class=\"ansi-green-fg\">3</span></span>),\n",
       "  (<span style=\"color: rgb(0, 187, 0)\"><span class=\"ansi-green-fg\">&quot;he&quot;</span></span>, <span style=\"color: rgb(0, 187, 0)\"><span class=\"ansi-green-fg\">1</span></span>),\n",
       "  (<span style=\"color: rgb(0, 187, 0)\"><span class=\"ansi-green-fg\">&quot;wind&quot;</span></span>, <span style=\"color: rgb(0, 187, 0)\"><span class=\"ansi-green-fg\">1</span></span>)\n",
       ")</code></pre>\n",
       "</div>"
      ],
      "text/plain": [
       "\u001b[36mresult\u001b[39m: \u001b[32mIterable\u001b[39m[(\u001b[32mString\u001b[39m, \u001b[32mInt\u001b[39m)] = \u001b[33mBuffer\u001b[39m(\n",
       "  (\u001b[32m\"tears\"\u001b[39m, \u001b[32m1\u001b[39m),\n",
       "  (\u001b[32m\"scheme\"\u001b[39m, \u001b[32m1\u001b[39m),\n",
       "  (\u001b[32m\"bells\"\u001b[39m, \u001b[32m1\u001b[39m),\n",
       "  (\u001b[32m\"father\"\u001b[39m, \u001b[32m1\u001b[39m),\n",
       "  (\u001b[32m\"why\"\u001b[39m, \u001b[32m1\u001b[39m),\n",
       "  (\u001b[32m\"body\"\u001b[39m, \u001b[32m1\u001b[39m),\n",
       "  (\u001b[32m\"upon\"\u001b[39m, \u001b[32m1\u001b[39m),\n",
       "  (\u001b[32m\"parturition\"\u001b[39m, \u001b[32m1\u001b[39m),\n",
       "  (\u001b[32m\"boar\"\u001b[39m, \u001b[32m1\u001b[39m),\n",
       "  (\u001b[32m\"currents\"\u001b[39m, \u001b[32m1\u001b[39m),\n",
       "  (\u001b[32m\"that\"\u001b[39m, \u001b[32m3\u001b[39m),\n",
       "  (\u001b[32m\"not\"\u001b[39m, \u001b[32m2\u001b[39m),\n",
       "  (\u001b[32m\"his\"\u001b[39m, \u001b[32m1\u001b[39m),\n",
       "  (\u001b[32m\"and\"\u001b[39m, \u001b[32m5\u001b[39m),\n",
       "  (\u001b[32m\"said\"\u001b[39m, \u001b[32m1\u001b[39m),\n",
       "  (\u001b[32m\"you\"\u001b[39m, \u001b[32m1\u001b[39m),\n",
       "  (\u001b[32m\"hours\"\u001b[39m, \u001b[32m1\u001b[39m),\n",
       "  (\u001b[32m\"scaling\"\u001b[39m, \u001b[32m1\u001b[39m),\n",
       "  (\u001b[32m\"living\"\u001b[39m, \u001b[32m1\u001b[39m),\n",
       "  (\u001b[32m\"qu\"\u001b[39m, \u001b[32m1\u001b[39m),\n",
       "  (\u001b[32m\"this\"\u001b[39m, \u001b[32m3\u001b[39m),\n",
       "  (\u001b[32m\"them\"\u001b[39m, \u001b[32m1\u001b[39m),\n",
       "  (\u001b[32m\"entered\"\u001b[39m, \u001b[32m1\u001b[39m),\n",
       "  (\u001b[32m\"strangers\"\u001b[39m, \u001b[32m1\u001b[39m),\n",
       "  (\u001b[32m\"an\"\u001b[39m, \u001b[32m1\u001b[39m),\n",
       "  (\u001b[32m\"the\"\u001b[39m, \u001b[32m3\u001b[39m),\n",
       "  (\u001b[32m\"artificial\"\u001b[39m, \u001b[32m1\u001b[39m),\n",
       "  (\u001b[32m\"what\"\u001b[39m, \u001b[32m1\u001b[39m),\n",
       "  (\u001b[32m\"well\"\u001b[39m, \u001b[32m1\u001b[39m),\n",
       "  (\u001b[32m\"to\"\u001b[39m, \u001b[32m3\u001b[39m),\n",
       "  (\u001b[32m\"he\"\u001b[39m, \u001b[32m1\u001b[39m),\n",
       "  (\u001b[32m\"wind\"\u001b[39m, \u001b[32m1\u001b[39m)\n",
       ")"
      ]
     },
     "metadata": {},
     "output_type": "display_data"
    }
   ],
   "source": [
    "var result = wordcount(context)"
   ]
  },
  {
   "cell_type": "code",
   "execution_count": null,
   "id": "ac992691-0111-4579-9883-faedb0ccca78",
   "metadata": {},
   "outputs": [],
   "source": []
  }
 ],
 "metadata": {
  "kernelspec": {
   "display_name": "Scala 2.12",
   "language": "scala",
   "name": "scala212"
  },
  "language_info": {
   "codemirror_mode": "text/x-scala",
   "file_extension": ".sc",
   "mimetype": "text/x-scala",
   "name": "scala",
   "nbconvert_exporter": "script",
   "version": "2.12.12"
  }
 },
 "nbformat": 4,
 "nbformat_minor": 5
}
