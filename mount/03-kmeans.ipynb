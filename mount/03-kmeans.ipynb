{
 "cells": [
  {
   "cell_type": "markdown",
   "metadata": {},
   "source": [
    "# K-Means Example\n",
    "\n",
    "&emsp; Show capabilities processing iterative or recursive algorithms\n",
    "- Wayang API allows working with cycles\n",
    "- Enumerating process review if an operator was already processed\n",
    "\n",
    "&emsp; Review in detail how to work with Wayang API\n"
   ]
  },
  {
   "cell_type": "markdown",
   "metadata": {},
   "source": [
    "---\n",
    "\n",
    "## Preparing dependancies\n"
   ]
  },
  {
   "cell_type": "markdown",
   "metadata": {},
   "source": [
    "This step imports the required modules to execute the code. All these packages come from the previous Maven Instalation\n",
    "\n",
    "```scala\n",
    "import $ivy.`ORGANIZATION:MODULE:VERSION` will bring the exact version\n",
    "import $ivy.`ORGANIZATION::MODULE:VERSION` the \"::\" bring the version of scala needed\n",
    "```\n",
    "\n",
    "The imported libraries are:\n",
    "\n",
    "Module | Java's | Scala's | Description\n",
    ":----- | -------------: | --------------: | :----------\n",
    "wayang-core | 8, 11 | 2.11, 2.12 | provides core data structures and the optimizer (required)\n",
    "wayang-basic | 8, 11 | 2.11, 2.12 | provides common operators and data types for your apps (recommended)\n",
    "wayang-api-scala-java | 8, 11 | 2.11, 2.12 | provides an easy-to-use Scala and Java API to assemble wayang plans (recommended)\n",
    "wayang-spark | 8, 11 | 2.11, 2.12 | adapters for [Apache Spark](https://spark.apache.org) processing platforms\n",
    "hadoop-common | 8,11 | - | Hadoop-commons is required because the lack of the Environment Variable **HADOOP_HOME**\n"
   ]
  },
  {
   "cell_type": "code",
   "execution_count": 1,
   "metadata": {},
   "outputs": [
    {
     "name": "stderr",
     "output_type": "stream",
     "text": [
      "Downloading https://repo1.maven.org/maven2/com/fasterxml/jackson/core/jackson-databind/2.10.1/jackson-databind-2.10.1.pom\n",
      "Downloaded https://repo1.maven.org/maven2/com/fasterxml/jackson/core/jackson-databind/2.10.1/jackson-databind-2.10.1.pom\n",
      "Downloading https://repo1.maven.org/maven2/com/fasterxml/jackson/jackson-base/2.10.1/jackson-base-2.10.1.pom\n",
      "Downloaded https://repo1.maven.org/maven2/com/fasterxml/jackson/jackson-base/2.10.1/jackson-base-2.10.1.pom\n",
      "Downloading https://repo1.maven.org/maven2/com/fasterxml/jackson/jackson-bom/2.10.1/jackson-bom-2.10.1.pom\n",
      "Downloaded https://repo1.maven.org/maven2/com/fasterxml/jackson/jackson-bom/2.10.1/jackson-bom-2.10.1.pom\n",
      "Downloading https://repo1.maven.org/maven2/com/fasterxml/jackson/core/jackson-core/2.10.1/jackson-core-2.10.1.pom\n",
      "Downloading https://repo1.maven.org/maven2/com/fasterxml/jackson/core/jackson-annotations/2.10.1/jackson-annotations-2.10.1.pom\n",
      "Downloaded https://repo1.maven.org/maven2/com/fasterxml/jackson/core/jackson-core/2.10.1/jackson-core-2.10.1.pom\n",
      "Downloaded https://repo1.maven.org/maven2/com/fasterxml/jackson/core/jackson-annotations/2.10.1/jackson-annotations-2.10.1.pom\n",
      "Downloading https://repo1.maven.org/maven2/com/fasterxml/jackson/core/jackson-databind/2.10.1/jackson-databind-2.10.1.jar\n",
      "Downloading https://repo1.maven.org/maven2/com/fasterxml/jackson/core/jackson-core/2.10.1/jackson-core-2.10.1.jar\n",
      "Downloading https://repo1.maven.org/maven2/com/fasterxml/jackson/core/jackson-core/2.10.1/jackson-core-2.10.1-sources.jar\n",
      "Downloading https://repo1.maven.org/maven2/com/fasterxml/jackson/core/jackson-annotations/2.10.1/jackson-annotations-2.10.1.jar\n",
      "Downloading https://repo1.maven.org/maven2/com/fasterxml/jackson/core/jackson-databind/2.10.1/jackson-databind-2.10.1-sources.jar\n",
      "Downloading https://repo1.maven.org/maven2/com/fasterxml/jackson/core/jackson-annotations/2.10.1/jackson-annotations-2.10.1-sources.jar\n",
      "Downloaded https://repo1.maven.org/maven2/com/fasterxml/jackson/core/jackson-annotations/2.10.1/jackson-annotations-2.10.1.jar\n",
      "Downloaded https://repo1.maven.org/maven2/com/fasterxml/jackson/core/jackson-annotations/2.10.1/jackson-annotations-2.10.1-sources.jar\n",
      "Downloaded https://repo1.maven.org/maven2/com/fasterxml/jackson/core/jackson-core/2.10.1/jackson-core-2.10.1.jar\n",
      "Downloaded https://repo1.maven.org/maven2/com/fasterxml/jackson/core/jackson-core/2.10.1/jackson-core-2.10.1-sources.jar\n",
      "Downloaded https://repo1.maven.org/maven2/com/fasterxml/jackson/core/jackson-databind/2.10.1/jackson-databind-2.10.1.jar\n",
      "Downloaded https://repo1.maven.org/maven2/com/fasterxml/jackson/core/jackson-databind/2.10.1/jackson-databind-2.10.1-sources.jar\n"
     ]
    },
    {
     "data": {
      "text/plain": [
       "\u001b[32mimport \u001b[39m\u001b[36m$ivy.$                                         \n",
       "\n",
       "\u001b[39m\n",
       "\u001b[32mimport \u001b[39m\u001b[36m$ivy.$                                                        \n",
       "\u001b[39m\n",
       "\u001b[32mimport \u001b[39m\u001b[36m$ivy.$                                             \n",
       "\u001b[39m\n",
       "\u001b[32mimport \u001b[39m\u001b[36m$ivy.$                                              \n",
       "\u001b[39m\n",
       "\u001b[32mimport \u001b[39m\u001b[36m$ivy.$                                               \n",
       "\u001b[39m\n",
       "\u001b[32mimport \u001b[39m\u001b[36m$ivy.$                                      \n",
       "\u001b[39m\n",
       "\u001b[32mimport \u001b[39m\u001b[36m$ivy.$                                                   \u001b[39m"
      ]
     },
     "execution_count": 1,
     "metadata": {},
     "output_type": "execute_result"
    }
   ],
   "source": [
    "import $ivy.`com.thoughtworks.paranamer:paranamer:2.8`\n",
    "\n",
    "import $ivy.`org.apache.wayang::wayang-api-scala-java:0.6.1-SNAPSHOT`\n",
    "import $ivy.`org.apache.wayang:wayang-core:0.6.1-SNAPSHOT`\n",
    "import $ivy.`org.apache.wayang:wayang-basic:0.6.1-SNAPSHOT`\n",
    "import $ivy.`org.apache.wayang::wayang-spark:0.6.1-SNAPSHOT`\n",
    "import $ivy.`org.apache.hadoop:hadoop-common:2.8.5`\n",
    "import $ivy.`com.fasterxml.jackson.core:jackson-databind:2.10.1`"
   ]
  },
  {
   "cell_type": "markdown",
   "metadata": {},
   "source": [
    "--- \n",
    "\n",
    "## Import Class Section\n",
    "\n",
    "The classes that are required to run the code"
   ]
  },
  {
   "cell_type": "code",
   "execution_count": 2,
   "metadata": {},
   "outputs": [
    {
     "data": {
      "text/plain": [
       "\u001b[32mimport \u001b[39m\u001b[36morg.apache.wayang.api._\n",
       "\u001b[39m\n",
       "\u001b[32mimport \u001b[39m\u001b[36morg.apache.wayang.core.api.{Configuration, WayangContext}\n",
       "\u001b[39m\n",
       "\u001b[32mimport \u001b[39m\u001b[36morg.apache.wayang.core.util.fs.FileSystems\n",
       "\u001b[39m\n",
       "\u001b[32mimport \u001b[39m\u001b[36morg.apache.wayang.core.function.ExecutionContext\n",
       "\u001b[39m\n",
       "\u001b[32mimport \u001b[39m\u001b[36morg.apache.wayang.core.function.FunctionDescriptor.ExtendedSerializableFunction\n",
       "\u001b[39m\n",
       "\u001b[32mimport \u001b[39m\u001b[36morg.apache.wayang.core.plugin.Plugin\n",
       "\u001b[39m\n",
       "\u001b[32mimport \u001b[39m\u001b[36morg.apache.wayang.spark.Spark\n",
       "\u001b[39m\n",
       "\u001b[32mimport \u001b[39m\u001b[36mjava.io.File\n",
       "\u001b[39m\n",
       "\u001b[32mimport \u001b[39m\u001b[36mjava.util.{Collection => JavaCollection}\n",
       "\u001b[39m\n",
       "\u001b[32mimport \u001b[39m\u001b[36mscala.collection.JavaConversions._\n",
       "\u001b[39m\n",
       "\u001b[32mimport \u001b[39m\u001b[36mscala.util.Random\u001b[39m"
      ]
     },
     "execution_count": 2,
     "metadata": {},
     "output_type": "execute_result"
    }
   ],
   "source": [
    "import org.apache.wayang.api._\n",
    "import org.apache.wayang.core.api.{Configuration, WayangContext}\n",
    "import org.apache.wayang.core.util.fs.FileSystems\n",
    "import org.apache.wayang.core.function.ExecutionContext\n",
    "import org.apache.wayang.core.function.FunctionDescriptor.ExtendedSerializableFunction\n",
    "import org.apache.wayang.core.plugin.Plugin\n",
    "import org.apache.wayang.spark.Spark\n",
    "import java.io.File\n",
    "import java.util.{Collection => JavaCollection}\n",
    "import scala.collection.JavaConversions._\n",
    "import scala.util.Random"
   ]
  },
  {
   "cell_type": "code",
   "execution_count": 3,
   "metadata": {},
   "outputs": [
    {
     "data": {
      "text/plain": [
       "defined \u001b[32mtrait\u001b[39m \u001b[36mPointLike\u001b[39m\n",
       "defined \u001b[32mclass\u001b[39m \u001b[36mPoint\u001b[39m\n",
       "defined \u001b[32mclass\u001b[39m \u001b[36mTaggedPoint\u001b[39m\n",
       "defined \u001b[32mclass\u001b[39m \u001b[36mTaggedPointCounter\u001b[39m"
      ]
     },
     "execution_count": 3,
     "metadata": {},
     "output_type": "execute_result"
    }
   ],
   "source": [
    "/**\n",
    "  * Represents objects with an x and a y coordinate.\n",
    "  */\n",
    "sealed trait PointLike {\n",
    "\n",
    "  /**\n",
    "    * @return the x coordinate\n",
    "    */\n",
    "  def x: Double\n",
    "\n",
    "  /**\n",
    "    * @return the y coordinate\n",
    "    */\n",
    "  def y: Double\n",
    "\n",
    "}\n",
    "\n",
    "/**\n",
    "  * Represents a two-dimensional point.\n",
    "  *\n",
    "  * @param x the x coordinate\n",
    "  * @param y the y coordinate\n",
    "  */\n",
    "case class Point(x: Double, y: Double) extends PointLike {\n",
    "\n",
    "  /**\n",
    "    * Calculates the Euclidean distance to another [[Point]].\n",
    "    *\n",
    "    * @param that the other [[PointLike]]\n",
    "    * @return the Euclidean distance\n",
    "    */\n",
    "  def distanceTo(that: PointLike) = {\n",
    "    val dx = this.x - that.x\n",
    "    val dy = this.y - that.y\n",
    "    math.sqrt(dx * dx + dy * dy)\n",
    "  }\n",
    "\n",
    "  override def toString: String = f\"($x%.2f, $y%.2f)\"\n",
    "}\n",
    "\n",
    "/**\n",
    "  * Represents a two-dimensional point with a centroid ID attached.\n",
    "  */\n",
    "case class TaggedPoint(x: Double, y: Double, centroidId: Int) extends PointLike {\n",
    "\n",
    "  /**\n",
    "    * Creates a [[Point]] from this instance.\n",
    "    *\n",
    "    * @return the [[Point]]\n",
    "    */\n",
    "  def toPoint = Point(x, y)\n",
    "\n",
    "}\n",
    "\n",
    "/**\n",
    "  * Represents a two-dimensional point with a centroid ID and a counter attached.\n",
    "  */\n",
    "case class TaggedPointCounter(x: Double, y: Double, centroidId: Int, count: Int = 1) extends PointLike {\n",
    "\n",
    "  def this(point: PointLike, centroidId: Int, count: Int) = this(point.x, point.y, centroidId, count)\n",
    "\n",
    "  /**\n",
    "    * Adds coordinates and counts of two instances.\n",
    "    *\n",
    "    * @param that the other instance\n",
    "    * @return the sum\n",
    "    */\n",
    "  def +(that: TaggedPointCounter) = TaggedPointCounter(this.x + that.x, this.y + that.y, this.centroidId, this.count + that.count)\n",
    "\n",
    "  /**\n",
    "    * Calculates the average of all added instances.\n",
    "    *\n",
    "    * @return a [[TaggedPoint]] reflecting the average\n",
    "    */\n",
    "  def average = TaggedPoint(x / count, y / count, centroidId)\n",
    "\n",
    "}"
   ]
  },
  {
   "cell_type": "code",
   "execution_count": 4,
   "metadata": {},
   "outputs": [
    {
     "data": {
      "text/plain": [
       "defined \u001b[32mclass\u001b[39m \u001b[36mSelectNearestCentroid\u001b[39m"
      ]
     },
     "execution_count": 4,
     "metadata": {},
     "output_type": "execute_result"
    }
   ],
   "source": [
    "/**\n",
    "  * UDF to select the closest centroid for a given [[Point]].\n",
    "  */\n",
    "class SelectNearestCentroid extends ExtendedSerializableFunction[Point, TaggedPointCounter] {\n",
    "\n",
    "  /** Keeps the broadcasted centroids. */\n",
    "  var centroids: JavaCollection[TaggedPoint] = _\n",
    "\n",
    "  override def open(executionCtx: ExecutionContext) = {\n",
    "    centroids = executionCtx.getBroadcast[TaggedPoint](\"centroids\")\n",
    "  }\n",
    "\n",
    "  override def apply(point: Point): TaggedPointCounter = {\n",
    "    var minDistance = Double.PositiveInfinity\n",
    "    var nearestCentroidId = -1\n",
    "    for (centroid <- centroids) {\n",
    "      val distance = point.distanceTo(centroid)\n",
    "      if (distance < minDistance) {\n",
    "        minDistance = distance\n",
    "        nearestCentroidId = centroid.centroidId\n",
    "      }\n",
    "    }\n",
    "    new TaggedPointCounter(point, nearestCentroidId, 1)\n",
    "  }\n",
    "}"
   ]
  },
  {
   "cell_type": "code",
   "execution_count": 5,
   "metadata": {},
   "outputs": [
    {
     "data": {
      "text/plain": [
       "defined \u001b[32mfunction\u001b[39m \u001b[36mcreateRandomCentroids\u001b[39m"
      ]
     },
     "execution_count": 5,
     "metadata": {},
     "output_type": "execute_result"
    }
   ],
   "source": [
    "/**\n",
    "* Creates random centroids.\n",
    "*\n",
    "* @param n      the number of centroids to create\n",
    "* @param random used to draw random coordinates\n",
    "* @return the centroids\n",
    "*/\n",
    "def createRandomCentroids(n: Int, random: Random = new Random()) =\n",
    "  // NOTE: The random cluster ID makes collisions during resurrection \n",
    "  //       less likely but in general permits ID collisions.\n",
    "  for (i <- 1 to n) yield TaggedPoint(random.nextGaussian(), random.nextGaussian(), random.nextInt())"
   ]
  },
  {
   "cell_type": "code",
   "execution_count": 6,
   "metadata": {},
   "outputs": [
    {
     "data": {
      "text/plain": [
       "\u001b[36minputFile\u001b[39m: \u001b[32mString\u001b[39m = \u001b[32m\"file:/home/jovyan/mount/files/census.txt\"\u001b[39m\n",
       "\u001b[36mk\u001b[39m: \u001b[32mInt\u001b[39m = \u001b[32m100\u001b[39m\n",
       "\u001b[36miterations\u001b[39m: \u001b[32mInt\u001b[39m = \u001b[32m10\u001b[39m"
      ]
     },
     "execution_count": 6,
     "metadata": {},
     "output_type": "execute_result"
    }
   ],
   "source": [
    "val inputFile = new File(\"files/census.txt\").toURI().toString()\n",
    "val k = 100\n",
    "val iterations = 10"
   ]
  },
  {
   "cell_type": "code",
   "execution_count": 7,
   "metadata": {},
   "outputs": [
    {
     "data": {
      "text/html": [
       "<div class=\"jp-RenderedText\">\n",
       "<pre><code><span style=\"color: rgb(0, 187, 187)\"><span class=\"ansi-cyan-fg\">plugin</span></span>: <span style=\"color: rgb(0, 187, 0)\"><span class=\"ansi-green-fg\">Plugin</span></span> = org.apache.wayang.spark.plugin.SparkBasicPlugin@41fb0219</code></pre>\n",
       "</div>"
      ],
      "text/plain": [
       "\u001b[36mplugin\u001b[39m: \u001b[32mPlugin\u001b[39m = org.apache.wayang.spark.plugin.SparkBasicPlugin@41fb0219"
      ]
     },
     "metadata": {},
     "output_type": "display_data"
    }
   ],
   "source": [
    "var plugin: Plugin = Spark.basicPlugin"
   ]
  },
  {
   "cell_type": "code",
   "execution_count": 8,
   "metadata": {},
   "outputs": [
    {
     "data": {
      "text/plain": [
       "defined \u001b[32mclass\u001b[39m \u001b[36mKmeans\u001b[39m"
      ]
     },
     "execution_count": 8,
     "metadata": {},
     "output_type": "execute_result"
    }
   ],
   "source": [
    "class Kmeans(field0: Int, field1: Int) extends Serializable {\n",
    "    \n",
    "  def apply(plugin: Plugin, k: Int, inputFile: String, iterations: Int): Iterable[Point] = {\n",
    "    val context = new WayangContext().withPlugin(plugin)\n",
    "    val planBuilder = new PlanBuilder(context)\n",
    "      \n",
    "    // Read and parse the input file(s).\n",
    "    val points = planBuilder\n",
    "      .readTextFile(inputFile)\n",
    "      .filter( line => line.trim.nonEmpty && !line.startsWith(\"caseid\") )\n",
    "      .map { line =>\n",
    "        val fields = line.split(\",\")\n",
    "        Point(fields(field0).toDouble, fields(field1).toDouble)\n",
    "      }\n",
    "\n",
    "    // Create initial centroids.\n",
    "    val initialCentroids = planBuilder\n",
    "      .loadCollection(createRandomCentroids(k))\n",
    "\n",
    "    // Do the k-means loop.\n",
    "    val finalCentroids = initialCentroids.repeat(iterations, { currentCentroids =>\n",
    "      points\n",
    "        .mapJava(\n",
    "          new SelectNearestCentroid\n",
    "        )\n",
    "        .withBroadcast(currentCentroids, \"centroids\")\n",
    "        .reduceByKey(_.centroidId, _ + _)\n",
    "        .map(_.average)\n",
    "    })\n",
    "\n",
    "    // Collect the result.\n",
    "    finalCentroids\n",
    "      .map(_.toPoint)\n",
    "      .collect()\n",
    "  }\n",
    "}"
   ]
  },
  {
   "cell_type": "code",
   "execution_count": 9,
   "metadata": {},
   "outputs": [
    {
     "name": "stderr",
     "output_type": "stream",
     "text": [
      "SLF4J: Class path contains multiple SLF4J bindings.\n",
      "SLF4J: Found binding in [jar:file:/home/jovyan/.cache/coursier/v1/https/repo1.maven.org/maven2/org/slf4j/slf4j-log4j12/1.7.30/slf4j-log4j12-1.7.30.jar!/org/slf4j/impl/StaticLoggerBinder.class]\n",
      "SLF4J: Found binding in [jar:file:/home/jovyan/.cache/coursier/v1/https/repo1.maven.org/maven2/org/slf4j/slf4j-log4j12/1.7.10/slf4j-log4j12-1.7.10.jar!/org/slf4j/impl/StaticLoggerBinder.class]\n",
      "SLF4J: See http://www.slf4j.org/codes.html#multiple_bindings for an explanation.\n",
      "SLF4J: Actual binding is of type [org.slf4j.impl.Log4jLoggerFactory]\n",
      "Using Spark's default log4j profile: org/apache/spark/log4j-defaults.properties\n",
      "23/10/27 12:20:40 INFO SparkContext: Running Spark version 3.1.2\n",
      "23/10/27 12:20:41 WARN NativeCodeLoader: Unable to load native-hadoop library for your platform... using builtin-java classes where applicable\n",
      "23/10/27 12:20:41 INFO ResourceUtils: ==============================================================\n",
      "23/10/27 12:20:41 INFO ResourceUtils: No custom resources configured for spark.driver.\n",
      "23/10/27 12:20:41 INFO ResourceUtils: ==============================================================\n",
      "23/10/27 12:20:41 INFO SparkContext: Submitted application: Wayang app\n",
      "23/10/27 12:20:41 INFO ResourceProfile: Default ResourceProfile created, executor resources: Map(cores -> name: cores, amount: 1, script: , vendor: , memory -> name: memory, amount: 1024, script: , vendor: , offHeap -> name: offHeap, amount: 0, script: , vendor: ), task resources: Map(cpus -> name: cpus, amount: 1.0)\n",
      "23/10/27 12:20:41 INFO ResourceProfile: Limiting resource is cpu\n",
      "23/10/27 12:20:41 INFO ResourceProfileManager: Added ResourceProfile id: 0\n",
      "23/10/27 12:20:41 INFO SecurityManager: Changing view acls to: jovyan\n",
      "23/10/27 12:20:41 INFO SecurityManager: Changing modify acls to: jovyan\n",
      "23/10/27 12:20:41 INFO SecurityManager: Changing view acls groups to: \n",
      "23/10/27 12:20:41 INFO SecurityManager: Changing modify acls groups to: \n",
      "23/10/27 12:20:41 INFO SecurityManager: SecurityManager: authentication disabled; ui acls disabled; users  with view permissions: Set(jovyan); groups with view permissions: Set(); users  with modify permissions: Set(jovyan); groups with modify permissions: Set()\n",
      "23/10/27 12:20:42 INFO Utils: Successfully started service 'sparkDriver' on port 37805.\n",
      "23/10/27 12:20:42 INFO SparkEnv: Registering MapOutputTracker\n",
      "23/10/27 12:20:42 INFO SparkEnv: Registering BlockManagerMaster\n",
      "23/10/27 12:20:42 INFO BlockManagerMasterEndpoint: Using org.apache.spark.storage.DefaultTopologyMapper for getting topology information\n",
      "23/10/27 12:20:42 INFO BlockManagerMasterEndpoint: BlockManagerMasterEndpoint up\n",
      "23/10/27 12:20:42 INFO SparkEnv: Registering BlockManagerMasterHeartbeat\n",
      "23/10/27 12:20:42 INFO DiskBlockManager: Created local directory at /tmp/blockmgr-975be333-d1ce-417a-bf3b-5bc0b3155c71\n",
      "23/10/27 12:20:42 INFO MemoryStore: MemoryStore started with capacity 2.4 GiB\n",
      "23/10/27 12:20:42 INFO SparkEnv: Registering OutputCommitCoordinator\n",
      "23/10/27 12:20:42 WARN Utils: Service 'SparkUI' could not bind on port 4040. Attempting port 4041.\n",
      "23/10/27 12:20:42 INFO Utils: Successfully started service 'SparkUI' on port 4041.\n",
      "23/10/27 12:20:42 INFO SparkUI: Bound SparkUI to 0.0.0.0, and started at http://d1adebda9b0b:4041\n",
      "23/10/27 12:20:42 INFO Executor: Starting executor ID driver on host d1adebda9b0b\n",
      "23/10/27 12:20:42 INFO Utils: Successfully started service 'org.apache.spark.network.netty.NettyBlockTransferService' on port 40897.\n",
      "23/10/27 12:20:42 INFO NettyBlockTransferService: Server created on d1adebda9b0b:40897\n",
      "23/10/27 12:20:42 INFO BlockManager: Using org.apache.spark.storage.RandomBlockReplicationPolicy for block replication policy\n",
      "23/10/27 12:20:42 INFO BlockManagerMaster: Registering BlockManager BlockManagerId(driver, d1adebda9b0b, 40897, None)\n",
      "23/10/27 12:20:43 INFO BlockManagerMasterEndpoint: Registering block manager d1adebda9b0b:40897 with 2.4 GiB RAM, BlockManagerId(driver, d1adebda9b0b, 40897, None)\n",
      "23/10/27 12:20:43 INFO BlockManagerMaster: Registered BlockManager BlockManagerId(driver, d1adebda9b0b, 40897, None)\n",
      "23/10/27 12:20:43 INFO BlockManager: Initialized BlockManager: BlockManagerId(driver, d1adebda9b0b, 40897, None)\n"
     ]
    },
    {
     "ename": "",
     "evalue": "",
     "output_type": "error",
     "traceback": [
      "\u001b[31morg.apache.wayang.core.api.exception.WayangException: Job execution failed.\u001b[39m\n  org.apache.wayang.core.api.Job.doExecute(\u001b[32mJob.java\u001b[39m:\u001b[32m335\u001b[39m)\n  org.apache.wayang.core.util.OneTimeExecutable.tryExecute(\u001b[32mOneTimeExecutable.java\u001b[39m:\u001b[32m41\u001b[39m)\n  org.apache.wayang.core.util.OneTimeExecutable.execute(\u001b[32mOneTimeExecutable.java\u001b[39m:\u001b[32m54\u001b[39m)\n  org.apache.wayang.core.api.Job.execute(\u001b[32mJob.java\u001b[39m:\u001b[32m249\u001b[39m)\n  org.apache.wayang.core.api.WayangContext.execute(\u001b[32mWayangContext.java\u001b[39m:\u001b[32m133\u001b[39m)\n  org.apache.wayang.core.api.WayangContext.execute(\u001b[32mWayangContext.java\u001b[39m:\u001b[32m121\u001b[39m)\n  org.apache.wayang.api.PlanBuilder.buildAndExecute(\u001b[32mPlanBuilder.scala\u001b[39m:\u001b[32m105\u001b[39m)\n  org.apache.wayang.api.DataQuanta.collect(\u001b[32mDataQuanta.scala\u001b[39m:\u001b[32m758\u001b[39m)\n  ammonite.$sess.cmd7$Helper$Kmeans.apply(\u001b[32mcmd7.sc\u001b[39m:\u001b[32m33\u001b[39m)\n  ammonite.$sess.cmd8$Helper.<init>(\u001b[32mcmd8.sc\u001b[39m:\u001b[32m1\u001b[39m)\n  ammonite.$sess.cmd8$.<init>(\u001b[32mcmd8.sc\u001b[39m:\u001b[32m7\u001b[39m)\n  ammonite.$sess.cmd8$.<clinit>(\u001b[32mcmd8.sc\u001b[39m:\u001b[32m-1\u001b[39m)\n\u001b[31mjava.lang.ExceptionInInitializerError\u001b[39m\n  org.apache.spark.SparkContext.withScope(\u001b[32mSparkContext.scala\u001b[39m:\u001b[32m786\u001b[39m)\n  org.apache.spark.SparkContext.textFile(\u001b[32mSparkContext.scala\u001b[39m:\u001b[32m917\u001b[39m)\n  org.apache.spark.api.java.JavaSparkContext.textFile(\u001b[32mJavaSparkContext.scala\u001b[39m:\u001b[32m175\u001b[39m)\n  org.apache.wayang.spark.operators.SparkTextFileSource.evaluate(\u001b[32mSparkTextFileSource.java\u001b[39m:\u001b[32m70\u001b[39m)\n  org.apache.wayang.spark.execution.SparkExecutor.execute(\u001b[32mSparkExecutor.java\u001b[39m:\u001b[32m114\u001b[39m)\n  org.apache.wayang.core.platform.PushExecutorTemplate.execute(\u001b[32mPushExecutorTemplate.java\u001b[39m:\u001b[32m73\u001b[39m)\n  org.apache.wayang.core.platform.PushExecutorTemplate.access$100(\u001b[32mPushExecutorTemplate.java\u001b[39m:\u001b[32m47\u001b[39m)\n  org.apache.wayang.core.platform.PushExecutorTemplate$StageExecution.execute(\u001b[32mPushExecutorTemplate.java\u001b[39m:\u001b[32m195\u001b[39m)\n  org.apache.wayang.core.platform.PushExecutorTemplate$StageExecution.doExecute(\u001b[32mPushExecutorTemplate.java\u001b[39m:\u001b[32m166\u001b[39m)\n  org.apache.wayang.core.util.OneTimeExecutable.tryExecute(\u001b[32mOneTimeExecutable.java\u001b[39m:\u001b[32m41\u001b[39m)\n  org.apache.wayang.core.util.OneTimeExecutable.execute(\u001b[32mOneTimeExecutable.java\u001b[39m:\u001b[32m54\u001b[39m)\n  org.apache.wayang.core.platform.PushExecutorTemplate$StageExecution.executeStage(\u001b[32mPushExecutorTemplate.java\u001b[39m:\u001b[32m156\u001b[39m)\n  org.apache.wayang.core.platform.PushExecutorTemplate.execute(\u001b[32mPushExecutorTemplate.java\u001b[39m:\u001b[32m61\u001b[39m)\n  org.apache.wayang.core.platform.CrossPlatformExecutor.execute(\u001b[32mCrossPlatformExecutor.java\u001b[39m:\u001b[32m378\u001b[39m)\n  org.apache.wayang.core.platform.CrossPlatformExecutor.executeSingleStage(\u001b[32mCrossPlatformExecutor.java\u001b[39m:\u001b[32m248\u001b[39m)\n  org.apache.wayang.core.platform.CrossPlatformExecutor.runToBreakpoint(\u001b[32mCrossPlatformExecutor.java\u001b[39m:\u001b[32m320\u001b[39m)\n  org.apache.wayang.core.platform.CrossPlatformExecutor.executeUntilBreakpoint(\u001b[32mCrossPlatformExecutor.java\u001b[39m:\u001b[32m156\u001b[39m)\n  org.apache.wayang.core.api.Job.execute(\u001b[32mJob.java\u001b[39m:\u001b[32m529\u001b[39m)\n  org.apache.wayang.core.api.Job.doExecute(\u001b[32mJob.java\u001b[39m:\u001b[32m314\u001b[39m)\n  org.apache.wayang.core.util.OneTimeExecutable.tryExecute(\u001b[32mOneTimeExecutable.java\u001b[39m:\u001b[32m41\u001b[39m)\n  org.apache.wayang.core.util.OneTimeExecutable.execute(\u001b[32mOneTimeExecutable.java\u001b[39m:\u001b[32m54\u001b[39m)\n  org.apache.wayang.core.api.Job.execute(\u001b[32mJob.java\u001b[39m:\u001b[32m249\u001b[39m)\n  org.apache.wayang.core.api.WayangContext.execute(\u001b[32mWayangContext.java\u001b[39m:\u001b[32m133\u001b[39m)\n  org.apache.wayang.core.api.WayangContext.execute(\u001b[32mWayangContext.java\u001b[39m:\u001b[32m121\u001b[39m)\n  org.apache.wayang.api.PlanBuilder.buildAndExecute(\u001b[32mPlanBuilder.scala\u001b[39m:\u001b[32m105\u001b[39m)\n  org.apache.wayang.api.DataQuanta.collect(\u001b[32mDataQuanta.scala\u001b[39m:\u001b[32m758\u001b[39m)\n  ammonite.$sess.cmd7$Helper$Kmeans.apply(\u001b[32mcmd7.sc\u001b[39m:\u001b[32m33\u001b[39m)\n  ammonite.$sess.cmd8$Helper.<init>(\u001b[32mcmd8.sc\u001b[39m:\u001b[32m1\u001b[39m)\n  ammonite.$sess.cmd8$.<init>(\u001b[32mcmd8.sc\u001b[39m:\u001b[32m7\u001b[39m)\n  ammonite.$sess.cmd8$.<clinit>(\u001b[32mcmd8.sc\u001b[39m:\u001b[32m-1\u001b[39m)\n\u001b[31mcom.fasterxml.jackson.databind.JsonMappingException: Scala module 2.10.0 requires Jackson Databind version >= 2.10.0 and < 2.11.0\u001b[39m\n  com.fasterxml.jackson.module.scala.JacksonModule.setupModule(\u001b[32mJacksonModule.scala\u001b[39m:\u001b[32m61\u001b[39m)\n  com.fasterxml.jackson.module.scala.JacksonModule.setupModule$(\u001b[32mJacksonModule.scala\u001b[39m:\u001b[32m46\u001b[39m)\n  com.fasterxml.jackson.module.scala.DefaultScalaModule.setupModule(\u001b[32mDefaultScalaModule.scala\u001b[39m:\u001b[32m17\u001b[39m)\n  com.fasterxml.jackson.databind.ObjectMapper.registerModule(\u001b[32mObjectMapper.java\u001b[39m:\u001b[32m835\u001b[39m)\n  org.apache.spark.rdd.RDDOperationScope$.<init>(\u001b[32mRDDOperationScope.scala\u001b[39m:\u001b[32m82\u001b[39m)\n  org.apache.spark.rdd.RDDOperationScope$.<clinit>(\u001b[32mRDDOperationScope.scala\u001b[39m:\u001b[32m-1\u001b[39m)\n  org.apache.spark.SparkContext.withScope(\u001b[32mSparkContext.scala\u001b[39m:\u001b[32m786\u001b[39m)\n  org.apache.spark.SparkContext.textFile(\u001b[32mSparkContext.scala\u001b[39m:\u001b[32m917\u001b[39m)\n  org.apache.spark.api.java.JavaSparkContext.textFile(\u001b[32mJavaSparkContext.scala\u001b[39m:\u001b[32m175\u001b[39m)\n  org.apache.wayang.spark.operators.SparkTextFileSource.evaluate(\u001b[32mSparkTextFileSource.java\u001b[39m:\u001b[32m70\u001b[39m)\n  org.apache.wayang.spark.execution.SparkExecutor.execute(\u001b[32mSparkExecutor.java\u001b[39m:\u001b[32m114\u001b[39m)\n  org.apache.wayang.core.platform.PushExecutorTemplate.execute(\u001b[32mPushExecutorTemplate.java\u001b[39m:\u001b[32m73\u001b[39m)\n  org.apache.wayang.core.platform.PushExecutorTemplate.access$100(\u001b[32mPushExecutorTemplate.java\u001b[39m:\u001b[32m47\u001b[39m)\n  org.apache.wayang.core.platform.PushExecutorTemplate$StageExecution.execute(\u001b[32mPushExecutorTemplate.java\u001b[39m:\u001b[32m195\u001b[39m)\n  org.apache.wayang.core.platform.PushExecutorTemplate$StageExecution.doExecute(\u001b[32mPushExecutorTemplate.java\u001b[39m:\u001b[32m166\u001b[39m)\n  org.apache.wayang.core.util.OneTimeExecutable.tryExecute(\u001b[32mOneTimeExecutable.java\u001b[39m:\u001b[32m41\u001b[39m)\n  org.apache.wayang.core.util.OneTimeExecutable.execute(\u001b[32mOneTimeExecutable.java\u001b[39m:\u001b[32m54\u001b[39m)\n  org.apache.wayang.core.platform.PushExecutorTemplate$StageExecution.executeStage(\u001b[32mPushExecutorTemplate.java\u001b[39m:\u001b[32m156\u001b[39m)\n  org.apache.wayang.core.platform.PushExecutorTemplate.execute(\u001b[32mPushExecutorTemplate.java\u001b[39m:\u001b[32m61\u001b[39m)\n  org.apache.wayang.core.platform.CrossPlatformExecutor.execute(\u001b[32mCrossPlatformExecutor.java\u001b[39m:\u001b[32m378\u001b[39m)\n  org.apache.wayang.core.platform.CrossPlatformExecutor.executeSingleStage(\u001b[32mCrossPlatformExecutor.java\u001b[39m:\u001b[32m248\u001b[39m)\n  org.apache.wayang.core.platform.CrossPlatformExecutor.runToBreakpoint(\u001b[32mCrossPlatformExecutor.java\u001b[39m:\u001b[32m320\u001b[39m)\n  org.apache.wayang.core.platform.CrossPlatformExecutor.executeUntilBreakpoint(\u001b[32mCrossPlatformExecutor.java\u001b[39m:\u001b[32m156\u001b[39m)\n  org.apache.wayang.core.api.Job.execute(\u001b[32mJob.java\u001b[39m:\u001b[32m529\u001b[39m)\n  org.apache.wayang.core.api.Job.doExecute(\u001b[32mJob.java\u001b[39m:\u001b[32m314\u001b[39m)\n  org.apache.wayang.core.util.OneTimeExecutable.tryExecute(\u001b[32mOneTimeExecutable.java\u001b[39m:\u001b[32m41\u001b[39m)\n  org.apache.wayang.core.util.OneTimeExecutable.execute(\u001b[32mOneTimeExecutable.java\u001b[39m:\u001b[32m54\u001b[39m)\n  org.apache.wayang.core.api.Job.execute(\u001b[32mJob.java\u001b[39m:\u001b[32m249\u001b[39m)\n  org.apache.wayang.core.api.WayangContext.execute(\u001b[32mWayangContext.java\u001b[39m:\u001b[32m133\u001b[39m)\n  org.apache.wayang.core.api.WayangContext.execute(\u001b[32mWayangContext.java\u001b[39m:\u001b[32m121\u001b[39m)\n  org.apache.wayang.api.PlanBuilder.buildAndExecute(\u001b[32mPlanBuilder.scala\u001b[39m:\u001b[32m105\u001b[39m)\n  org.apache.wayang.api.DataQuanta.collect(\u001b[32mDataQuanta.scala\u001b[39m:\u001b[32m758\u001b[39m)\n  ammonite.$sess.cmd7$Helper$Kmeans.apply(\u001b[32mcmd7.sc\u001b[39m:\u001b[32m33\u001b[39m)\n  ammonite.$sess.cmd8$Helper.<init>(\u001b[32mcmd8.sc\u001b[39m:\u001b[32m1\u001b[39m)\n  ammonite.$sess.cmd8$.<init>(\u001b[32mcmd8.sc\u001b[39m:\u001b[32m7\u001b[39m)\n  ammonite.$sess.cmd8$.<clinit>(\u001b[32mcmd8.sc\u001b[39m:\u001b[32m-1\u001b[39m)"
     ]
    }
   ],
   "source": [
    "var result = new Kmeans(0, 1).apply(plugin, k, inputFile, iterations)"
   ]
  }
 ],
 "metadata": {
  "kernelspec": {
   "display_name": "Scala 2.12",
   "language": "scala",
   "name": "scala212"
  },
  "language_info": {
   "codemirror_mode": "text/x-scala",
   "file_extension": ".sc",
   "mimetype": "text/x-scala",
   "name": "scala",
   "nbconvert_exporter": "script",
   "version": "2.12.12"
  }
 },
 "nbformat": 4,
 "nbformat_minor": 4
}
